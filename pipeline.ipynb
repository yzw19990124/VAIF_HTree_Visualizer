{
 "cells": [
  {
   "cell_type": "markdown",
   "metadata": {},
   "source": [
    "Author: Yanzheng(Dexter) Wu\n",
    "Usage: Preprocessing & formatting, Group 1 Visualization Part."
   ]
  },
  {
   "cell_type": "markdown",
   "metadata": {},
   "source": [
    "## 1. Parsing Pythia STD.\n",
    "\n",
    "We first use the parsing.py to filter out the groups and trace information from the other log outputs. \n",
    "\n",
    "pythia_logs_full is the original std output from running VAIF in Pythia;\n",
    "\n",
    "The output from the parsing.py is a json file which the key is the group number, and the values are the two hypothesis results(in nodes). "
   ]
  },
  {
   "cell_type": "code",
   "execution_count": 21,
   "metadata": {},
   "outputs": [
    {
     "name": "stdout",
     "output_type": "stream",
     "text": [
      "parsing done, writing to json.\n",
      "write done.\n"
     ]
    },
    {
     "data": {
      "text/plain": [
       "['http://ctl:3030: NodeStats { receive_bytes_per_sec: 4016, transmit_bytes_per_sec: 611, receive_drop_per_sec: 0, transmit_drop_per_sec: 0, load_avg_1_min: 2.29, load_avg_5_min: 3.87, tasks_runnable: 2, trace_input_kbps: 0.09, agent_cpu_time: 0.0, trace_size: 39655842 }',\n",
       " 'http://cp-1:3030: NodeStats { receive_bytes_per_sec: 3630, transmit_bytes_per_sec: 457, receive_drop_per_sec: 0, transmit_drop_per_sec: 0, load_avg_1_min: 0.0, load_avg_5_min: 0.0, tasks_runnable: 2, trace_input_kbps: 0.0, agent_cpu_time: 0.0, trace_size: 22406304 }']"
      ]
     },
     "execution_count": 21,
     "metadata": {},
     "output_type": "execute_result"
    }
   ],
   "source": [
    "import json\n",
    "import os\n",
    "\n",
    "os.system(\"python parsing.py\")\n",
    "\n",
    "file = open(\"parsed.json\")\n",
    "groups = json.load(file)\n",
    "\n",
    "groups[\"Group_2\"]"
   ]
  },
  {
   "cell_type": "markdown",
   "metadata": {},
   "source": [
    "## 2. Constructing graph based on the NodeStats. \n"
   ]
  },
  {
   "cell_type": "code",
   "execution_count": 23,
   "metadata": {},
   "outputs": [
    {
     "name": "stdout",
     "output_type": "stream",
     "text": [
      "start building graph...\n",
      "Done.\n"
     ]
    },
    {
     "data": {
      "text/plain": [
       "{'http://ctl:3030': {'label': 'http://ctl:3030: NodeStats { receive_bytes_per_sec: 4101, transmit_bytes_per_sec: 1275, receive_drop_per_sec: 0, transmit_drop_per_sec: 0, load_avg_1_min: 6.05, load_avg_5_min: 5.39, tasks_runnable: 13, trace_input_kbps: 0.81, agent_cpu_time: 0.0, trace_size: 39831954 }'},\n",
       " 'Group_0': {},\n",
       " 'http://cp-1:3030': {'label': 'http://cp-1:3030: NodeStats { receive_bytes_per_sec: 3722, transmit_bytes_per_sec: 965, receive_drop_per_sec: 0, transmit_drop_per_sec: 0, load_avg_1_min: 0.03, load_avg_5_min: 0.05, tasks_runnable: 2, trace_input_kbps: 0.0, agent_cpu_time: 0.0, trace_size: 22406304 }'},\n",
       " 'Group_1': {},\n",
       " 'Group_2': {},\n",
       " 'Group_3': {},\n",
       " 'Group_4': {},\n",
       " 'Group_5': {},\n",
       " 'Group_6': {},\n",
       " 'Group_8': {},\n",
       " 'Group_9': {},\n",
       " 'Group_10': {},\n",
       " 'Group_11': {},\n",
       " 'Group_12': {},\n",
       " 'Group_13': {},\n",
       " 'Group_14': {},\n",
       " 'Group_15': {},\n",
       " 'Group_16': {},\n",
       " 'Group_17': {},\n",
       " 'Group_18': {},\n",
       " 'Group_19': {},\n",
       " 'Group_20': {},\n",
       " 'Group_21': {},\n",
       " 'Group_22': {}}"
      ]
     },
     "execution_count": 23,
     "metadata": {},
     "output_type": "execute_result"
    }
   ],
   "source": [
    "import htree\n",
    "\n",
    "graph = htree.htree_built(groups)\n",
    "\n",
    "graph._node"
   ]
  }
 ],
 "metadata": {
  "kernelspec": {
   "display_name": "ai-desig",
   "language": "python",
   "name": "python3"
  },
  "language_info": {
   "codemirror_mode": {
    "name": "ipython",
    "version": 3
   },
   "file_extension": ".py",
   "mimetype": "text/x-python",
   "name": "python",
   "nbconvert_exporter": "python",
   "pygments_lexer": "ipython3",
   "version": "3.11.8"
  }
 },
 "nbformat": 4,
 "nbformat_minor": 2
}
