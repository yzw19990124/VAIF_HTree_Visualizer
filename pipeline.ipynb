{
 "cells": [
  {
   "cell_type": "markdown",
   "metadata": {},
   "source": [
    "Author: Yanzheng(Dexter) Wu\n",
    "Usage: Preprocessing & formatting, Group 1 Visualization Part."
   ]
  },
  {
   "cell_type": "markdown",
   "metadata": {},
   "source": [
    "## 1. Parsing Pythia STD.\n",
    "\n",
    "We first use the parsing.py to filter out the groups and trace information from the other log outputs. \n",
    "\n",
    "pythia_logs_full is the original std output from running VAIF in Pythia;\n",
    "\n",
    "The output from the parsing.py is a json file which the key is the group number, and the values are the two hypothesis results(in nodes). "
   ]
  },
  {
   "cell_type": "code",
   "execution_count": 21,
   "metadata": {},
   "outputs": [
    {
     "name": "stdout",
     "output_type": "stream",
     "text": [
      "parsing done, writing to json.\n",
      "write done.\n"
     ]
    },
    {
     "data": {
      "text/plain": [
       "['http://ctl:3030: NodeStats { receive_bytes_per_sec: 4016, transmit_bytes_per_sec: 611, receive_drop_per_sec: 0, transmit_drop_per_sec: 0, load_avg_1_min: 2.29, load_avg_5_min: 3.87, tasks_runnable: 2, trace_input_kbps: 0.09, agent_cpu_time: 0.0, trace_size: 39655842 }',\n",
       " 'http://cp-1:3030: NodeStats { receive_bytes_per_sec: 3630, transmit_bytes_per_sec: 457, receive_drop_per_sec: 0, transmit_drop_per_sec: 0, load_avg_1_min: 0.0, load_avg_5_min: 0.0, tasks_runnable: 2, trace_input_kbps: 0.0, agent_cpu_time: 0.0, trace_size: 22406304 }']"
      ]
     },
     "execution_count": 21,
     "metadata": {},
     "output_type": "execute_result"
    }
   ],
   "source": [
    "import json\n",
    "import os\n",
    "\n",
    "os.system(\"python parsing.py\")\n",
    "\n",
    "file = open(\"parsed.json\")\n",
    "groups = json.load(file)\n",
    "\n",
    "groups[\"Group_2\"]"
   ]
  },
  {
   "cell_type": "markdown",
   "metadata": {},
   "source": [
    "## 2. Constructing graph based on the NodeStats. \n"
   ]
  },
  {
   "cell_type": "code",
   "execution_count": 25,
   "metadata": {},
   "outputs": [
    {
     "name": "stdout",
     "output_type": "stream",
     "text": [
      "start building graph...\n",
      "Done.\n"
     ]
    },
    {
     "ename": "AttributeError",
     "evalue": "module 'htree' has no attribute 'visual'",
     "output_type": "error",
     "traceback": [
      "\u001b[0;31m---------------------------------------------------------------------------\u001b[0m",
      "\u001b[0;31mAttributeError\u001b[0m                            Traceback (most recent call last)",
      "Cell \u001b[0;32mIn[25], line 5\u001b[0m\n\u001b[1;32m      1\u001b[0m \u001b[38;5;28;01mimport\u001b[39;00m \u001b[38;5;21;01mhtree\u001b[39;00m\n\u001b[1;32m      3\u001b[0m graph \u001b[38;5;241m=\u001b[39m htree\u001b[38;5;241m.\u001b[39mhtree_built(groups)\n\u001b[0;32m----> 5\u001b[0m \u001b[43mhtree\u001b[49m\u001b[38;5;241;43m.\u001b[39;49m\u001b[43mvisual\u001b[49m(graph)\n",
      "\u001b[0;31mAttributeError\u001b[0m: module 'htree' has no attribute 'visual'"
     ]
    }
   ],
   "source": [
    "import htree\n",
    "\n",
    "graph = htree.htree_built(groups)\n",
    "\n",
    "htree.visual(graph)"
   ]
  }
 ],
 "metadata": {
  "kernelspec": {
   "display_name": "ai-desig",
   "language": "python",
   "name": "python3"
  },
  "language_info": {
   "codemirror_mode": {
    "name": "ipython",
    "version": 3
   },
   "file_extension": ".py",
   "mimetype": "text/x-python",
   "name": "python",
   "nbconvert_exporter": "python",
   "pygments_lexer": "ipython3",
   "version": "3.11.8"
  }
 },
 "nbformat": 4,
 "nbformat_minor": 2
}
